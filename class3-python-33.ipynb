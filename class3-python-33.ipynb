{
 "cells": [
  {
   "cell_type": "code",
   "execution_count": 2,
   "metadata": {},
   "outputs": [
    {
     "name": "stdout",
     "output_type": "stream",
     "text": [
      "spandanakoduru\n"
     ]
    }
   ],
   "source": [
    "firstname='spandana'\n",
    "lastname='koduru'\n",
    "fullname=f\"{firstname}{lastname}\"\n",
    "print(fullname)\n"
   ]
  },
  {
   "cell_type": "code",
   "execution_count": 3,
   "metadata": {},
   "outputs": [
    {
     "name": "stdout",
     "output_type": "stream",
     "text": [
      "Spandanakoduru\n"
     ]
    }
   ],
   "source": [
    "print(fullname.title())"
   ]
  },
  {
   "cell_type": "code",
   "execution_count": 5,
   "metadata": {},
   "outputs": [
    {
     "name": "stdout",
     "output_type": "stream",
     "text": [
      "python java c c++\n"
     ]
    }
   ],
   "source": [
    "print('python','java','c','c++')"
   ]
  },
  {
   "cell_type": "code",
   "execution_count": 7,
   "metadata": {},
   "outputs": [
    {
     "name": "stdout",
     "output_type": "stream",
     "text": [
      "\n",
      "python \n",
      "java \n",
      "c \n",
      "c++\n"
     ]
    }
   ],
   "source": [
    "print('\\npython','\\njava','\\nc','\\nc++')\n",
    " "
   ]
  },
  {
   "cell_type": "code",
   "execution_count": 8,
   "metadata": {},
   "outputs": [
    {
     "name": "stdout",
     "output_type": "stream",
     "text": [
      "fav_languages: \t\n",
      "python \t\n",
      "java \t\n",
      "ruby \t\n",
      "c++\n"
     ]
    }
   ],
   "source": [
    "print('fav_languages:','\\t\\npython','\\t\\njava','\\t\\nruby','\\t\\nc++')\n",
    "      "
   ]
  },
  {
   "cell_type": "code",
   "execution_count": 10,
   "metadata": {},
   "outputs": [
    {
     "name": "stdout",
     "output_type": "stream",
     "text": [
      "Spandanakoduru\n"
     ]
    }
   ],
   "source": [
    "firstname='spandana'\n",
    "lastname='koduru'\n",
    "fullname=f\"{firstname}{lastname}\"\n",
    "print(fullname.title())"
   ]
  },
  {
   "cell_type": "code",
   "execution_count": 12,
   "metadata": {},
   "outputs": [
    {
     "name": "stdout",
     "output_type": "stream",
     "text": [
      "keep up the good work,Spandanakoduru\n"
     ]
    }
   ],
   "source": [
    "message=f\"keep up the good work,{fullname.title()}\"\n",
    "print(message)"
   ]
  },
  {
   "cell_type": "code",
   "execution_count": null,
   "metadata": {},
   "outputs": [],
   "source": []
  },
  {
   "cell_type": "code",
   "execution_count": null,
   "metadata": {},
   "outputs": [],
   "source": []
  },
  {
   "cell_type": "code",
   "execution_count": null,
   "metadata": {},
   "outputs": [],
   "source": []
  }
 ],
 "metadata": {
  "kernelspec": {
   "display_name": "Python 3",
   "language": "python",
   "name": "python3"
  },
  "language_info": {
   "codemirror_mode": {
    "name": "ipython",
    "version": 3
   },
   "file_extension": ".py",
   "mimetype": "text/x-python",
   "name": "python",
   "nbconvert_exporter": "python",
   "pygments_lexer": "ipython3",
   "version": "3.7.6"
  }
 },
 "nbformat": 4,
 "nbformat_minor": 4
}
